{
  "cells": [
    {
      "cell_type": "markdown",
      "source": [
        "\n",
        "# <center>General Chemistry Study Guide</center>\n",
        "\n",
        "### <center>Chapter 1. Introduction</center>\n",
        "\n",
        "---\n"
      ],
      "metadata": {}
    },
    {
      "cell_type": "markdown",
      "source": [
        "## 1. General Concepts in Chemistry\n",
        "\n",
        "##### <b>OpenStax</b>  1.1. Chemistry in Context ; 1.2. Phases and Classification of Matter ; 1.3. Physical and Chemical Properties. <b>Brown</b> 1.1 The Study of Chemistry; 1.2 Classification of Matter; 1.3 Properties of Matter; 1.4 The Nature of Energy #####\n",
        "\n",
        "\n",
        "\n",
        "**Chemistry** is the study of matter and the changes it undergoes.\n",
        "\n",
        "**Matter** is anything that occupies space and has mass.\n",
        "\n",
        "A **substance** is a form of matter that has a definite composition and distinct properties.\n",
        "\n",
        "A **mixture** is a combination of two or more substances in which the substances retain their distinct identities.\n",
        "\n",
        "-  **Homogenous** mixture – composition of the mixture is the same throughout.\n",
        "-  **Heterogeneous** mixture – composition is not uniform throughout.\n",
        "\n",
        "An **element** is a substance that cannot be separated into simpler substances by chemical means.\n",
        "\n",
        "A **compound** is a substance composed of atoms of two or more elements chemically united in fixed proportions.\n",
        "<figure>\n",
        "<img src=\"https://upload.wikimedia.org/wikipedia/commons/8/89/States_of_matter_En.svg\" style = \"width: 500px\"/>\n",
        "\n",
        "<figcaption><center>The three states of matter: solid, liquid and gas.</center></figcaption>\n",
        "</figure>\n",
        "\n",
        "A **physical change** does not alter the composition or identity of a substance.\n",
        "\n",
        "A **chemical change** alters the composition or identity of the substance(s) involved.\n",
        "\n",
        "An **extensive property** of a material depends upon how much matter is being considered (mass, length, volume, etc.).\n",
        "\n",
        "An **intensive property** of a material does not depend upon how much matter is being considered (density, temperature, color, etc.).\n"
      ],
      "metadata": {
        "collapsed": true
      }
    },
    {
      "cell_type": "markdown",
      "source": [
        "> #### Requirements\n",
        "> 1. Understand the concepts"
      ],
      "metadata": {}
    },
    {
      "cell_type": "markdown",
      "source": [
        "## 2. Measurement\n",
        "\n",
        "##### <b>OpenStax</b> 1.4 Measurements. <b>Brown</b> 1.5 Units of  Measurement. #####\n",
        "\n",
        "### International system of units\n",
        "\n",
        "In 1960, the General Conference of Weights and Measures, the international authority on units, proposed a revised metric system called the International System of Units (abbreviated SI, from the French System International d'Unites).\n",
        "\n",
        "| Base Quantity       | Name of Unit | Symbol |\n",
        "|---------------------|--------------|--------|\n",
        "| Length              | meter        | m      |\n",
        "| Mass                | kilogram     | kg     |\n",
        "| Time                | second       | s      |\n",
        "| Electrical current  | ampere       | A      |\n",
        "| Temperature         | kelvin       | K      |\n",
        "| Amount of substance | mole         | mol    |\n",
        "| Luminous intensity  | candela      | cd     |\n",
        "\n",
        "| Prefix | Symbol | Meaning    | Example                       |\n",
        "|--------|--------|------------|-------------------------------|\n",
        "| tera-  | T      | $10^{12}$  | 1 Tm = $1\\times 10^{12}\\,\\text{m}$    |\n",
        "| giga-  | G      | $10^9$     | 1 Gm = $1\\times 10^9\\,\\text{m}$       |\n",
        "| mega-  | M      | $10^6$     | 1 Mm = $1\\times 10^6\\,\\text{m}$       |\n",
        "| kilo-  | k      | $10^3$     | 1 km = $1\\times 10^3\\,\\text{m}$       |\n",
        "| deci-  | d      | $10^{-1}$  | 1 dm = $1\\times 10^{-1}\\,\\text{m}$   |\n",
        "| centi- | c      | $10^{-2}$  | 1 cm = $1\\times 10^{-2}\\,\\text{m}$    |\n",
        "| milli- | m      | $10^{-3}$  | 1 mm = $1\\times 10^{-3}\\,\\text{m}$   |\n",
        "| micro- | $\\mu$  | $10^{-6}$  | 1 $\\mu$m = $1\\times 10^{-6}\\,\\text{m}$|\n",
        "| nano-  | n      | $10^{-9}$  | 1 nm = $1\\times 10^{-9}\\,\\text{m}$    |\n",
        "| pico-  | p      | $10^{-12}$ | 1 pm = $1\\times 10^{-12}\\,\\text{m}$   |\n",
        "\n",
        "\n",
        "### Mass and weight\n",
        "\n",
        "**Mass** – measure of the quantity of matter\n",
        "\n",
        "SI unit of mass is the kilogram (kg)\n",
        "\n",
        "$$1\\,\\text{kg} = 1000\\,\\text{g} = 1\\times10^3\\,\\text{g}$$\n",
        "\n",
        "**Weight** – force that gravity exerts on an object\n",
        "\n",
        "### Volume\n",
        "\n",
        "Volume – SI derived unit for volume is cubic meter ($\\text{m}^3$)\n",
        "\n",
        "$$1\\,\\text{mL} = 1\\,\\text{cm}^3=1\\times10^{-6}\\,\\text{m}^3$$\n",
        "$$1\\,\\text{L} = 1\\,\\text{dm}^3 = 1000\\,\\text{mL} =1\\times10^{-3}\\,\\text{m}^3$$\n",
        "\n",
        "### Density\n",
        "\n",
        "Density is the mass of an object divided by its volume. \n",
        "\n",
        "$$d=\\frac{m}{V}$$\n",
        "$$1\\,\\text{g/cm}^3 = 1\\,\\text{g/mL} = 1000\\,\\text{kg/m}^3$$\n",
        "\n",
        "\n",
        "### Temperature\n",
        "\n",
        "$$\\text{?}\\,^\\circ\\text{C} = (^\\circ\\text{F}-32\\,^\\circ\\text{F})\\times\\frac{5\\,^\\circ\\text{C}}{9\\,^\\circ\\text{F}}$$\n",
        "\n",
        "$$\\text{?}\\,^\\circ\\text{F} = \\frac{9\\,^\\circ\\text{F}}{5\\,^\\circ\\text{C}}\\times(^\\circ\\text{C})+32\\,^\\circ\\text{F}$$\n",
        "\n",
        "$$\\text{? K}=(^\\circ\\text{C}+273.15\\,^\\circ\\text{C})\\frac{1\\,\\text{K}}{1\\,^\\circ\\text{C}}$$\n",
        "\n",
        "$$\\text{?}\\,^\\circ\\text{C} = (\\text{K}-273.15\\,\\text{K})\\frac{1\\,^\\circ\\text{C}}{1\\,\\text{K}}$$\n",
        "\n"
      ],
      "metadata": {}
    },
    {
      "cell_type": "markdown",
      "source": [
        "<div class=example>\n",
        "    \n",
        "<b>Example:</b> The mass of a piece of gold is 45.3 g, the volume is 2.35 $\\text{cm}^3$. What is the density? <br>\n",
        "<b>Answer:</b><br>\n",
        "\n",
        "\\begin{align*}\n",
        "d & = \\frac{m}{V} \\\\\n",
        " & = \\frac{45.3\\,\\text{g}}{2.35\\,\\text{cm}^3} \\\\\n",
        " & = 19.3\\,\\text{g/cm}^3\n",
        "\\end{align*}\n",
        "<br>\n",
        "<b>Example:</b> Convert temperature from Celsius to Fahrenheit or from Fahrenheit to Celsius. (a) 37 $^\\circ\\text{C}$; (b) 74 $^\\circ\\text{F}$. <br>\n",
        "<b>Answer:</b><br>\n",
        "(a)\n",
        "\n",
        "\\begin{align*}\n",
        "\\frac{9\\,^\\circ\\text{F}}{5\\,^\\circ\\text{C}}\\times(37\\,^\\circ\\text{C})+32\\,^\\circ\\text{F} = 99\\,^\\circ\\text{F} \n",
        "\\end{align*}\n",
        "    \n",
        "(b)\n",
        "\n",
        "\\begin{align*}\n",
        "(74\\,^\\circ\\text{F}-32\\,^\\circ\\text{F})\\times\\frac{5\\,^\\circ\\text{C}}{9\\,^\\circ\\text{F}}=23\\,^\\circ\\text{C}\n",
        "\\end{align*}\n",
        "\n",
        "</div>"
      ],
      "metadata": {}
    },
    {
      "cell_type": "code",
      "source": [
        "# Convert Celsius to Fahrenheit\n",
        "\n",
        "T_C = 37\n",
        "T_F = 9/5*T_C + 32\n",
        "T_F"
      ],
      "outputs": [
        {
          "output_type": "execute_result",
          "execution_count": 2,
          "data": {
            "text/plain": [
              "98.60000000000001"
            ]
          },
          "metadata": {}
        }
      ],
      "execution_count": 2,
      "metadata": {}
    },
    {
      "cell_type": "code",
      "source": [
        "# Convert Fahrenheit to Celsius\n",
        "\n",
        "T_F = 74\n",
        "T_C = (T_F - 32)*5/9\n",
        "T_C"
      ],
      "outputs": [
        {
          "output_type": "execute_result",
          "execution_count": 3,
          "data": {
            "text/plain": [
              "23.333333333333332"
            ]
          },
          "metadata": {}
        }
      ],
      "execution_count": 3,
      "metadata": {}
    },
    {
      "cell_type": "markdown",
      "source": [
        "> #### Requirements  \n",
        "> 1. Learn how to calculate density.\n",
        "> 2. Know how to convert units from one to another. "
      ],
      "metadata": {}
    },
    {
      "cell_type": "markdown",
      "source": [
        "## 3. Numbers  \n",
        "\n"
      ],
      "metadata": {}
    },
    {
      "cell_type": "markdown",
      "source": [
        "### 3.1 Scientific Notation\n",
        "\n",
        "##### <b>OpenStax</b> 1.4 Measurements #####\n",
        "\n",
        "All numbers can be expressed in the form\n",
        "\n",
        "$$N\\times10^n$$\n",
        "\n",
        "where $N$ is a number btween 1 and 10 and $n$, the exponent, is a positive or negative integer. Any number expressed in this way is said to be written in scientific notation. \n",
        "\n",
        "For example,\n",
        "\n",
        "$$568.762 = 5.68762\\times10^2$$\n",
        "\n",
        "because the decimal point is moved to the left by two places and $n=2$. \n",
        "\n",
        "$$0.00000772 = 7.72\\times10^{-6}$$\n",
        "\n",
        "because the decimal point is moved to the right by 6 places and $n=-6$. \n",
        "\n",
        "**Addition and Subtraction**\n",
        "\n",
        "First write each quantity with the same exponent; then, combine them. \n",
        "\n",
        "$$4.31\\times10^4 + 3.9\\times10^3 = 4.31\\times10^4+0.39\\times10^4=4.70\\times10^4$$\n",
        "\n",
        "**Multiplication and Division**\n",
        "\n",
        "To multiply numbers, we multiply $N_1$ and $N_2$ in the usual way, but add the exponents together. To divide, we divide $N_1$ and $N_2$ as usual and subtract the exponents. \n",
        "\n",
        "$$(8.0\\times10^4)\\times(5.0\\times10^2)=(8.0\\times5.0)(10^{4+2})=40\\times10^6=4.0\\times10^7$$\n",
        "\n",
        "$$\\frac{8.5\\times10^4}{5.0\\times10^9}=\\frac{8.5}{5.0}\\times10^{4-9}=1.7\\times10^{-5}$$\n",
        "\n",
        "<a href=\"https://www.chem.tamu.edu/class/fyp/mathrev/mr-scnot.html\" target=\"_blank\"> More Information about scientific notation</a>"
      ],
      "metadata": {}
    },
    {
      "cell_type": "markdown",
      "source": [
        "### 3.2 Significant Figures\n",
        "\n",
        "##### <b>OpenStax</b> 1.5 Measurement Uncertainty, Accuracy, and Precision. <b>Brown</b> 1.6 Uncertainty in Measurement #####\n",
        "\n",
        "\n",
        "Rules\n",
        "\n",
        "1. Any digit that is not zero is significant.\n",
        "2. Zeros between nonzero digits are significant. \n",
        "3. Zeros to the left of the first nonzero digit are not significant. \n",
        "4. If a number is greater than 1, then all the zeros written to the right of the decimal point count as significant figures. \n",
        "5. For numbers that do not contain decimal points, the trailing zeros may or may not be significant (There are different definitions in different textbooks). Thus, using scientific notation is recommended to avoid the ambiguity. \n",
        "\n",
        "Handling significant figures in calculations\n",
        "\n",
        "1. In addition and subtraction, the answer cannot have more digits to the right or the decimal point than either of the original numbers. \n",
        "2. In multiplication and division, the number of significant figures in the final product or quotient is determined by the original number that has the smallest number of significant figures. \n",
        "3. Exact numbers obtained from definitions or by counting numbers of objects can be considered to have an infinite number of significant figures. "
      ],
      "metadata": {}
    },
    {
      "cell_type": "markdown",
      "source": [
        "### 3.3 Accuracy and Precision\n",
        "\n",
        "##### <b>OpenStax</b> 1.5 Measurement Uncertainty, Accuracy, and Precision. <b>Brown</b> 1.6 Uncertainty in Measurement #####\n",
        "\n",
        "**Accuracy** tells us how close a measurement is to the true value of the quantity that was measured. \n",
        "\n",
        "**Precision** refers to how closely two or more measurements of the same quantity agree with one another. "
      ],
      "metadata": {}
    },
    {
      "cell_type": "markdown",
      "source": [
        "### 3.4 Significant Figures in Measurement\n",
        "\n",
        "##### <b>OpenStax</b> 1.5 Measurement Uncertainty, Accuracy, and Precision. <b>Brown</b> 1.6 Uncertainty in Measurement #####\n",
        "\n",
        "The numbers of measured quantities, unlike defined or directly counted quantities, are not exact. To measure the volume of liquid in a graduated cylinder, you should make a reading at the bottom of the meniscus, the lowest point on the curved surface of the liquid. In the following figure, the bottom of the meniscus in this case clearly lies between the 21 and 22 markings, meaning the liquid volume is certainly greater than 21 mL but less than 22 mL. The meniscus appears to be a bit closer to the 22-mL mark than to the 21-mL mark, and so a reasonable estimate of the liquid’s volume would be 21.6 mL. In the number 21.6, then, the digits 2 and 1 are certain, but the 6 is an estimate. Some people might estimate the meniscus position to be equally distant from each of the markings and estimate the tenth-place digit as 5, while others may think it to be even closer to the 22-mL mark and estimate this digit to be 7. Note that it would be pointless to attempt to estimate a digit for the hundredths place, given that the tenths-place digit is uncertain. In general, numerical scales such as the one on this graduated cylinder will permit measurements to one-tenth of the smallest scale division. The scale in this case has 1-mL divisions, and so volumes may be measured to the nearest 0.1 mL.\n",
        "<img src=\"https://cnx.org/resources/d95acf4892568c9217a07771de38bc56740a9b68\" style=\"width: 600px\"/>"
      ],
      "metadata": {}
    },
    {
      "cell_type": "markdown",
      "source": [
        "<div class=example>\n",
        "    \n",
        "<b>Example:</b> Determine the number of significant figures.<br> (a) 358 m; (b) 35.1 g; (c) 0.932 kg;  (d) 0.0068 m; (e) $9.320\\times 10^{23}\\,\\text{molecules}$; (f) 3400 mL. <br>\n",
        "<b>Answer:</b><br>\n",
        "(a) 3; (b) 3; (c) 3; (d) 2; (e) 4; (f) 2 or 4.\n",
        "<br>\n",
        "\n",
        "\n",
        "<b>Example:</b> Do the following operations giving answers with correct number of significant figures.<br> (a) $3245 + 1.649$; (b) $54.3- 3.32$; (c) $3.14\\times 2.5$; (d) $0.0029\\div 92.1$; (e) $6.02\\times10^{-4} - 1.1\\times10^{-5}$. <br>\n",
        "<b>Answer:</b><br>    \n",
        "(a) $3247$; (b) $51.0$; (c) $7.8$; (d) $0.000031$; (e) $5.91\\times10^{-4}$.\n",
        "</div>"
      ],
      "metadata": {}
    },
    {
      "cell_type": "markdown",
      "source": [
        "> #### Requirements \n",
        "> 1. Learn how to use scientific notation. Make a habit to use scientific notation.\n",
        "> 2. Learn how to determine siginificant figures. "
      ],
      "metadata": {}
    },
    {
      "cell_type": "markdown",
      "source": [
        "## 4. Dimensional Analysis\n",
        "\n",
        "##### <b>OpenStax</b> 1.6 Mathematical Treatment of Measurement Results.  <b>Brown</b> 1.7 Dimensional Analysis #####"
      ],
      "metadata": {}
    },
    {
      "cell_type": "markdown",
      "source": [
        "1. Determine which unit conversion factor(s) are needed. \n",
        "2. Carry units through calculation.\n",
        "3. If all units cancel except for the desired unit(s), then the problem was solved correctly. \n",
        "\n",
        "$$\\text{given unit}\\times\\frac{\\text{desired unit}}{\\text{given unit}}=\\text{desired unit}$$"
      ],
      "metadata": {}
    },
    {
      "cell_type": "markdown",
      "source": [
        "<div class=example>\n",
        "\n",
        "<b>Example:</b>The mass of a competition frisbee is 125 g. Convert its mass to ounces using the unit conversion factor derived from the relationship 1 oz = 28.349 g.<br>\n",
        "\n",
        "<b>Answer:</b><br>\n",
        "\n",
        "$$x\\,\\text{oz}=125\\,\\text{g}\\times\\frac{1\\,\\text{oz}}{28.349\\,\\text{g}}=4.41\\,\\text{oz}$$\n",
        "<br>\n",
        "\n",
        "<b>Example:</b>What is the density of common antifreeze in units of g/mL? A 4.00 qt sample of the antifreeze weighs 9.26 lb.<br>\n",
        "<b>Answer:</b><br>\n",
        "$$\\frac{9.26\\,\\text{lb}}{4.00\\,\\text{qt}}\\times\\frac{453.59\\,\\text{g}}{1\\,\\text{lb}}\\times\\frac{1.0567\\,\\text{qt}}{1\\,\\text{L}}\\times\\frac{1\\,\\text{L}}{1000\\,\\text{mL}}=1.11\\,\\text{g/mL}$$\n",
        "</div>"
      ],
      "metadata": {}
    },
    {
      "cell_type": "markdown",
      "source": [
        "> #### Requirements \n",
        "> 1. Learn how to do unit conversion. "
      ],
      "metadata": {
        "collapsed": true
      }
    },
    {
      "cell_type": "markdown",
      "source": [
        "----"
      ],
      "metadata": {
        "collapsed": true
      }
    },
    {
      "cell_type": "code",
      "source": [],
      "outputs": [],
      "execution_count": null,
      "metadata": {
        "collapsed": true
      }
    }
  ],
  "metadata": {
    "anaconda-cloud": {},
    "kernelspec": {
      "display_name": "Python 3",
      "language": "python",
      "name": "python3"
    },
    "language_info": {
      "name": "python",
      "version": "3.6.7",
      "mimetype": "text/x-python",
      "codemirror_mode": {
        "name": "ipython",
        "version": 3
      },
      "pygments_lexer": "ipython3",
      "nbconvert_exporter": "python",
      "file_extension": ".py"
    },
    "nteract": {
      "version": "0.21.0"
    }
  },
  "nbformat": 4,
  "nbformat_minor": 1
}